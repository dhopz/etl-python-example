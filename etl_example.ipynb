{
 "cells": [
  {
   "cell_type": "code",
   "execution_count": 1,
   "metadata": {},
   "outputs": [],
   "source": [
    "# Import the required library\n",
    "import requests\n",
    "from zipfile import ZipFile\n",
    "import csv\n",
    "from pprint import pprint\n",
    "import codecs\n"
   ]
  },
  {
   "cell_type": "code",
   "execution_count": 2,
   "metadata": {},
   "outputs": [
    {
     "name": "stdout",
     "output_type": "stream",
     "text": [
      "200\n"
     ]
    }
   ],
   "source": [
    "path = \"https://assets.datacamp.com/production/repositories/5899/datasets/19d6cf619d6a771314f0eb489262a31f89c424c2/ppr-all.zip\"\n",
    "# Get the zip file\n",
    "response = requests.get(path)\n",
    "# Print the status code\n",
    "print(response.status_code)"
   ]
  },
  {
   "cell_type": "code",
   "execution_count": 66,
   "metadata": {},
   "outputs": [],
   "source": [
    "# Save the file locally (more about open() in the next lesson)\n",
    "local_path = f\"/Users/davidhoupapa/Code/etl-python-example/PPR-ALL.zip\"\n",
    "with open(local_path, \"wb\") as f:\n",
    "    f.write(response.content)"
   ]
  },
  {
   "cell_type": "code",
   "execution_count": 34,
   "metadata": {},
   "outputs": [
    {
     "name": "stdout",
     "output_type": "stream",
     "text": [
      "['ppr-all.csv']\n",
      "/Users/davidhoupapa/Code/etl-python-example/ppr-all.csv\n"
     ]
    }
   ],
   "source": [
    "with ZipFile(local_path, \"r\") as f:\n",
    "    # Get the list of files\n",
    "    file_names = f.namelist()\n",
    "    print(file_names)\n",
    "    # Extract the CSV file\n",
    "    csv_file_path = f.extract(file_names[0])\n",
    "    print(csv_file_path)"
   ]
  },
  {
   "cell_type": "code",
   "execution_count": 65,
   "metadata": {},
   "outputs": [
    {
     "name": "stdout",
     "output_type": "stream",
     "text": [
      "<class 'dict'>\n",
      "{'Address': '16 BURLEIGH COURT, BURLINGTON ROAD, DUBLIN 4',\n",
      " 'County': 'Dublin',\n",
      " 'Date of Sale (dd/mm/yyyy)': '03/01/2021',\n",
      " 'Description of Property': 'Second-Hand Dwelling house /Apartment',\n",
      " 'Not Full Market Price': 'No',\n",
      " 'Postal Code': 'Dublin 4',\n",
      " 'Price': '450,000.00',\n",
      " 'Property Size Description': '',\n",
      " 'VAT Exclusive': 'No'}\n"
     ]
    }
   ],
   "source": [
    "with open(csv_file_path) as csv_file:\n",
    "    reader = csv.DictReader(csv_file)    \n",
    "    # Print the first row\n",
    "    row = next(reader)\n",
    "    print(type(row))\n",
    "    pprint(row)"
   ]
  },
  {
   "cell_type": "code",
   "execution_count": 69,
   "metadata": {},
   "outputs": [],
   "source": [
    "fieldnames = {\n",
    "    \"Date of Sale (dd/mm/yyyy)\": \"date_of_sale\",\n",
    "    \"Address\": \"address\",\n",
    "    \"Postal Code\": \"postal_code\",\n",
    "    \"County\": \"county\",\n",
    "    \"Price\": \"price\",\n",
    "    \"Description of Property\": \"description\",\n",
    "    \"Property Size Description\": \"size_description\",\n",
    "    \"Not Full Market Price\": \"not_full_market_price\",\n",
    "    \"VAT Exclusive\": \"vat_exclusive\"   \n",
    "}"
   ]
  },
  {
   "cell_type": "code",
   "execution_count": null,
   "metadata": {},
   "outputs": [],
   "source": [
    "local_path = f\"/Users/davidhoupapa/Code/etl-python-example/tmp/PPR-ALL.zip\""
   ]
  },
  {
   "cell_type": "code",
   "execution_count": 71,
   "metadata": {},
   "outputs": [],
   "source": [
    "with open(csv_file_path, mode=\"r\") as reader_csv_file:\n",
    "    reader = csv.DictReader(reader_csv_file)\n",
    "    # The new file is called \"PPR-2021-Dublin-new-headers.csv\"\n",
    "    # and will be saved inside the \"tmp\" folder    \n",
    "    with open(\"/Users/davidhoupapa/Code/etl-python-example/tmp/PPR-2021-Dublin-new-headers.csv\", mode=\"w\") as writer_csv_file:\n",
    "        writer = csv.DictWriter(writer_csv_file, fieldnames=fieldnames)\n",
    "        # Write header as first line\n",
    "        writer.writeheader()\n",
    "        for row in reader:\n",
    "\t        # Write all rows in file\n",
    "\t        writer.writerow(row)"
   ]
  },
  {
   "cell_type": "code",
   "execution_count": null,
   "metadata": {},
   "outputs": [],
   "source": [
    "# # Import the objects needed\n",
    "# from sqlalchemy.orm import declarative_base\n",
    "# from sqlalchemy import Column, Integer\n",
    "\n",
    "# Initialize the base and set inheritance\n",
    "Base = declarative_base()\n",
    "\n",
    "class PprRawAll(Base):\n",
    "    # Set the table name\n",
    "    __tablename__ = \"ppr_raw_all\"\n",
    "    # Create a primary key integer column id\n",
    "    id = Column(Integer, primary_key=True)"
   ]
  }
 ],
 "metadata": {
  "interpreter": {
   "hash": "31f2aee4e71d21fbe5cf8b01ff0e069b9275f58929596ceb00d14d90e3e16cd6"
  },
  "kernelspec": {
   "display_name": "Python 3.8.9 64-bit",
   "language": "python",
   "name": "python3"
  },
  "language_info": {
   "codemirror_mode": {
    "name": "ipython",
    "version": 3
   },
   "file_extension": ".py",
   "mimetype": "text/x-python",
   "name": "python",
   "nbconvert_exporter": "python",
   "pygments_lexer": "ipython3",
   "version": "3.8.9"
  },
  "orig_nbformat": 4
 },
 "nbformat": 4,
 "nbformat_minor": 2
}
